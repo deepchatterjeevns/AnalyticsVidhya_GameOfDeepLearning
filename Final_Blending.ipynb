{
 "cells": [
  {
   "cell_type": "code",
   "execution_count": 0,
   "metadata": {
    "colab": {},
    "colab_type": "code",
    "id": "cVqRNEB39KdF"
   },
   "outputs": [],
   "source": [
    "import pandas as pd\n",
    "import numpy as np"
   ]
  },
  {
   "cell_type": "code",
   "execution_count": 0,
   "metadata": {
    "colab": {},
    "colab_type": "code",
    "id": "mesoeLhn9ciF"
   },
   "outputs": [],
   "source": [
    "def write_submission(preds, filename):\n",
    "    sub = pd.read_csv('data/sample_submission_ns2btKE.csv')\n",
    "    sub.category = preds\n",
    "    sub.to_csv(filename, index=False)"
   ]
  },
  {
   "cell_type": "code",
   "execution_count": 0,
   "metadata": {
    "colab": {},
    "colab_type": "code",
    "id": "DJzQECwJ9Qao"
   },
   "outputs": [],
   "source": [
    "preds_9803 = pd.read_csv('Preds_SeResNeXt50_LB_980316.csv')\n",
    "preds_98127 = pd.read_csv('Preds_ResNet50_LB_98127.csv')\n",
    "preds_9832 = pd.read_csv('Preds_ResNeXt50_LB_983208.csv')"
   ]
  },
  {
   "cell_type": "code",
   "execution_count": 0,
   "metadata": {
    "colab": {},
    "colab_type": "code",
    "id": "Xt6XAyCt9oEu"
   },
   "outputs": [],
   "source": [
    "TTA_9803 = pd.read_csv('TTA_SeResNeXt50_LB_980316.csv')\n",
    "TTA_98127 = pd.read_csv('TTA_ResNet50_LB_98127.csv')\n",
    "TTA_9832 = pd.read_csv('TTA_ResNeXt50_LB_983208.csv')"
   ]
  },
  {
   "cell_type": "code",
   "execution_count": 0,
   "metadata": {
    "colab": {},
    "colab_type": "code",
    "id": "A1iQ4j5K9qDF"
   },
   "outputs": [],
   "source": [
    "preds_avg = (preds_9803.values + preds_98127.values + preds_9832.values)/3"
   ]
  },
  {
   "cell_type": "code",
   "execution_count": 0,
   "metadata": {
    "colab": {},
    "colab_type": "code",
    "id": "HYs4tTnW-LuR"
   },
   "outputs": [],
   "source": [
    "TTA_avg = (TTA_9803.values + TTA_98127.values + TTA_9832.values + TTA_9832.values)/3"
   ]
  },
  {
   "cell_type": "code",
   "execution_count": 0,
   "metadata": {
    "colab": {},
    "colab_type": "code",
    "id": "ZvpRQLf3-WSd"
   },
   "outputs": [],
   "source": [
    "preds_class = np.argmax(preds_avg, axis=1)\n",
    "preds_class += 1"
   ]
  },
  {
   "cell_type": "code",
   "execution_count": 0,
   "metadata": {
    "colab": {},
    "colab_type": "code",
    "id": "Joadx6K0-lYs"
   },
   "outputs": [],
   "source": [
    "write_submission(preds_class, 'Blend_Avg_Preds_9803_9812_9832.csv')\n",
    "# LB 0.985990"
   ]
  },
  {
   "cell_type": "code",
   "execution_count": 0,
   "metadata": {
    "colab": {},
    "colab_type": "code",
    "id": "A8QH3giR-tIp"
   },
   "outputs": [],
   "source": [
    "TTA_class = np.argmax(TTA_avg, axis=1)\n",
    "TTA_class += 1"
   ]
  },
  {
   "cell_type": "code",
   "execution_count": 0,
   "metadata": {
    "colab": {},
    "colab_type": "code",
    "id": "EYBAGWOR-mQi"
   },
   "outputs": [],
   "source": [
    "write_submission(TTA_class, 'Blend_Avg_TTA_9803_9812_9832.csv')\n",
    "# LB 0.98410"
   ]
  },
  {
   "cell_type": "code",
   "execution_count": 0,
   "metadata": {
    "colab": {},
    "colab_type": "code",
    "id": "coRlSOOy_HGt"
   },
   "outputs": [],
   "source": []
  }
 ],
 "metadata": {
  "colab": {
   "name": "Final_Blending.ipynb",
   "provenance": [],
   "version": "0.3.2"
  },
  "kernelspec": {
   "display_name": "Python 3",
   "language": "python",
   "name": "python3"
  },
  "language_info": {
   "codemirror_mode": {
    "name": "ipython",
    "version": 3
   },
   "file_extension": ".py",
   "mimetype": "text/x-python",
   "name": "python",
   "nbconvert_exporter": "python",
   "pygments_lexer": "ipython3",
   "version": "3.6.7"
  }
 },
 "nbformat": 4,
 "nbformat_minor": 1
}
