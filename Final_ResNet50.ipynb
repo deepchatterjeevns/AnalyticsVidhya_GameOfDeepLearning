{
 "cells": [
  {
   "cell_type": "code",
   "execution_count": 0,
   "metadata": {
    "colab": {},
    "colab_type": "code",
    "id": "tnU5-RMlLARg"
   },
   "outputs": [],
   "source": [
    "from fastai import *\n",
    "from fastai.vision import *"
   ]
  },
  {
   "cell_type": "code",
   "execution_count": 0,
   "metadata": {
    "colab": {},
    "colab_type": "code",
    "id": "xjVaC_MbbZWG"
   },
   "outputs": [],
   "source": [
    "def set_seed(seed=42):\n",
    "    # python RNG\n",
    "    import random\n",
    "    random.seed(seed)\n",
    "\n",
    "    # pytorch RNGs\n",
    "    import torch\n",
    "    torch.manual_seed(seed)\n",
    "    torch.backends.cudnn.deterministic = True\n",
    "    if torch.cuda.is_available(): torch.cuda.manual_seed_all(seed)\n",
    "\n",
    "    # numpy RNG\n",
    "    import numpy as np\n",
    "    np.random.seed(seed)\n",
    "    \n",
    "set_seed()"
   ]
  },
  {
   "cell_type": "code",
   "execution_count": 0,
   "metadata": {
    "colab": {},
    "colab_type": "code",
    "id": "gjY8sIv0VmFF"
   },
   "outputs": [],
   "source": [
    "def write_submission(preds, filename):\n",
    "    sub = pd.read_csv('data/sample_submission_ns2btKE.csv')\n",
    "    sub.category = preds\n",
    "    sub.to_csv(filename, index=False)"
   ]
  },
  {
   "cell_type": "code",
   "execution_count": 0,
   "metadata": {
    "colab": {},
    "colab_type": "code",
    "id": "DlRsCZelQHx0"
   },
   "outputs": [],
   "source": [
    "f_score = FBeta(average='weighted', beta=1)"
   ]
  },
  {
   "cell_type": "code",
   "execution_count": 0,
   "metadata": {
    "colab": {},
    "colab_type": "code",
    "id": "xM8LeMJwOHYB"
   },
   "outputs": [],
   "source": [
    "tfms = get_transforms(flip_vert=False, max_lighting=0.1, max_zoom=1.05, max_warp=0.)"
   ]
  },
  {
   "cell_type": "code",
   "execution_count": 0,
   "metadata": {
    "colab": {},
    "colab_type": "code",
    "id": "KeuI5dQ1LEdc"
   },
   "outputs": [],
   "source": [
    "np.random.seed(42)\n",
    "src = (ImageList.from_csv('data', 'train.csv', folder='images')\n",
    "       .split_by_rand_pct(0.2, seed=42)\n",
    "       .label_from_df(cols='category')\n",
    "       .add_test(ImageList.from_csv('data/', csv_name='test_ApKoW4T.csv', folder='images'))\n",
    "      )"
   ]
  },
  {
   "cell_type": "markdown",
   "metadata": {
    "colab_type": "text",
    "id": "HbF7TYPvoYgl"
   },
   "source": [
    "## Training With Size 128"
   ]
  },
  {
   "cell_type": "code",
   "execution_count": 0,
   "metadata": {
    "colab": {},
    "colab_type": "code",
    "id": "PvG8qhwQOAJ0"
   },
   "outputs": [],
   "source": [
    "data = (src.transform(tfms, size=128, resize_method=ResizeMethod.SQUISH)\n",
    "        .databunch().normalize(imagenet_stats))"
   ]
  },
  {
   "cell_type": "code",
   "execution_count": 0,
   "metadata": {
    "colab": {},
    "colab_type": "code",
    "id": "us_BYAx1OT45"
   },
   "outputs": [],
   "source": [
    "learn = cnn_learner(data, models.resnet50, metrics=[error_rate, f_score])"
   ]
  },
  {
   "cell_type": "code",
   "execution_count": 0,
   "metadata": {
    "colab": {
     "base_uri": "https://localhost:8080/",
     "height": 318
    },
    "colab_type": "code",
    "id": "LeBqZJ4RQScw",
    "outputId": "8e20cee6-c431-4d06-9595-7ada3e1d247f"
   },
   "outputs": [
    {
     "data": {
      "text/html": [],
      "text/plain": [
       "<IPython.core.display.HTML object>"
      ]
     },
     "metadata": {
      "tags": []
     },
     "output_type": "display_data"
    },
    {
     "name": "stdout",
     "output_type": "stream",
     "text": [
      "LR Finder is complete, type {learner_name}.recorder.plot() to see the graph.\n",
      "Min numerical gradient: 2.09E-03\n"
     ]
    },
    {
     "data": {
      "image/png": "[encoded data removed]",
      "text/plain": [
       "<Figure size 432x288 with 1 Axes>"
      ]
     },
     "metadata": {
      "tags": []
     },
     "output_type": "display_data"
    }
   ],
   "source": [
    "learn.lr_find()\n",
    "learn.recorder.plot(suggestion=True)"
   ]
  },
  {
   "cell_type": "code",
   "execution_count": 0,
   "metadata": {
    "colab": {
     "base_uri": "https://localhost:8080/",
     "height": 614
    },
    "colab_type": "code",
    "id": "RGroV0abQXiC",
    "outputId": "846560e7-10e9-4d13-d64a-b6678ee26301"
   },
   "outputs": [
    {
     "data": {
      "text/html": [
       "<table border=\"1\" class=\"dataframe\">\n",
       "  <thead>\n",
       "    <tr style=\"text-align: left;\">\n",
       "      <th>epoch</th>\n",
       "      <th>train_loss</th>\n",
       "      <th>valid_loss</th>\n",
       "      <th>error_rate</th>\n",
       "      <th>f_beta</th>\n",
       "      <th>time</th>\n",
       "    </tr>\n",
       "  </thead>\n",
       "  <tbody>\n",
       "    <tr>\n",
       "      <td>0</td>\n",
       "      <td>1.161818</td>\n",
       "      <td>0.766736</td>\n",
       "      <td>0.272000</td>\n",
       "      <td>0.721810</td>\n",
       "      <td>00:19</td>\n",
       "    </tr>\n",
       "    <tr>\n",
       "      <td>1</td>\n",
       "      <td>0.864874</td>\n",
       "      <td>0.640365</td>\n",
       "      <td>0.243200</td>\n",
       "      <td>0.752621</td>\n",
       "      <td>00:18</td>\n",
       "    </tr>\n",
       "    <tr>\n",
       "      <td>2</td>\n",
       "      <td>0.679338</td>\n",
       "      <td>0.570596</td>\n",
       "      <td>0.206400</td>\n",
       "      <td>0.790071</td>\n",
       "      <td>00:17</td>\n",
       "    </tr>\n",
       "    <tr>\n",
       "      <td>3</td>\n",
       "      <td>0.587189</td>\n",
       "      <td>0.481978</td>\n",
       "      <td>0.184000</td>\n",
       "      <td>0.813858</td>\n",
       "      <td>00:17</td>\n",
       "    </tr>\n",
       "    <tr>\n",
       "      <td>4</td>\n",
       "      <td>0.506771</td>\n",
       "      <td>0.467759</td>\n",
       "      <td>0.173600</td>\n",
       "      <td>0.821292</td>\n",
       "      <td>00:19</td>\n",
       "    </tr>\n",
       "    <tr>\n",
       "      <td>5</td>\n",
       "      <td>0.441403</td>\n",
       "      <td>0.418548</td>\n",
       "      <td>0.162400</td>\n",
       "      <td>0.836987</td>\n",
       "      <td>00:17</td>\n",
       "    </tr>\n",
       "    <tr>\n",
       "      <td>6</td>\n",
       "      <td>0.369249</td>\n",
       "      <td>0.405552</td>\n",
       "      <td>0.145600</td>\n",
       "      <td>0.854594</td>\n",
       "      <td>00:17</td>\n",
       "    </tr>\n",
       "    <tr>\n",
       "      <td>7</td>\n",
       "      <td>0.351321</td>\n",
       "      <td>0.397857</td>\n",
       "      <td>0.152000</td>\n",
       "      <td>0.847177</td>\n",
       "      <td>00:17</td>\n",
       "    </tr>\n",
       "    <tr>\n",
       "      <td>8</td>\n",
       "      <td>0.286855</td>\n",
       "      <td>0.377045</td>\n",
       "      <td>0.131200</td>\n",
       "      <td>0.868105</td>\n",
       "      <td>00:18</td>\n",
       "    </tr>\n",
       "    <tr>\n",
       "      <td>9</td>\n",
       "      <td>0.262540</td>\n",
       "      <td>0.361483</td>\n",
       "      <td>0.136800</td>\n",
       "      <td>0.862158</td>\n",
       "      <td>00:18</td>\n",
       "    </tr>\n",
       "    <tr>\n",
       "      <td>10</td>\n",
       "      <td>0.242353</td>\n",
       "      <td>0.345795</td>\n",
       "      <td>0.129600</td>\n",
       "      <td>0.870287</td>\n",
       "      <td>00:17</td>\n",
       "    </tr>\n",
       "    <tr>\n",
       "      <td>11</td>\n",
       "      <td>0.215156</td>\n",
       "      <td>0.343663</td>\n",
       "      <td>0.124800</td>\n",
       "      <td>0.874340</td>\n",
       "      <td>00:17</td>\n",
       "    </tr>\n",
       "    <tr>\n",
       "      <td>12</td>\n",
       "      <td>0.187963</td>\n",
       "      <td>0.346694</td>\n",
       "      <td>0.128800</td>\n",
       "      <td>0.870543</td>\n",
       "      <td>00:17</td>\n",
       "    </tr>\n",
       "    <tr>\n",
       "      <td>13</td>\n",
       "      <td>0.171979</td>\n",
       "      <td>0.343518</td>\n",
       "      <td>0.128000</td>\n",
       "      <td>0.871883</td>\n",
       "      <td>00:19</td>\n",
       "    </tr>\n",
       "    <tr>\n",
       "      <td>14</td>\n",
       "      <td>0.160370</td>\n",
       "      <td>0.340171</td>\n",
       "      <td>0.129600</td>\n",
       "      <td>0.870395</td>\n",
       "      <td>00:17</td>\n",
       "    </tr>\n",
       "    <tr>\n",
       "      <td>15</td>\n",
       "      <td>0.150470</td>\n",
       "      <td>0.341917</td>\n",
       "      <td>0.123200</td>\n",
       "      <td>0.876228</td>\n",
       "      <td>00:17</td>\n",
       "    </tr>\n",
       "    <tr>\n",
       "      <td>16</td>\n",
       "      <td>0.146100</td>\n",
       "      <td>0.337948</td>\n",
       "      <td>0.118400</td>\n",
       "      <td>0.881302</td>\n",
       "      <td>00:17</td>\n",
       "    </tr>\n",
       "    <tr>\n",
       "      <td>17</td>\n",
       "      <td>0.136757</td>\n",
       "      <td>0.338305</td>\n",
       "      <td>0.122400</td>\n",
       "      <td>0.877547</td>\n",
       "      <td>00:18</td>\n",
       "    </tr>\n",
       "  </tbody>\n",
       "</table>"
      ],
      "text/plain": [
       "<IPython.core.display.HTML object>"
      ]
     },
     "metadata": {
      "tags": []
     },
     "output_type": "display_data"
    }
   ],
   "source": [
    "learn.fit_one_cycle(18, max_lr=slice(2e-3))"
   ]
  },
  {
   "cell_type": "code",
   "execution_count": 0,
   "metadata": {
    "colab": {},
    "colab_type": "code",
    "id": "2fw26Q84QkPm"
   },
   "outputs": [],
   "source": [
    "learn.save('Res50_128_877547')"
   ]
  },
  {
   "cell_type": "code",
   "execution_count": 0,
   "metadata": {
    "colab": {
     "base_uri": "https://localhost:8080/",
     "height": 318
    },
    "colab_type": "code",
    "id": "zS6dV7FWR5Oi",
    "outputId": "e094319a-88ca-4e52-aacf-aa412ac6eb38"
   },
   "outputs": [
    {
     "data": {
      "text/html": [],
      "text/plain": [
       "<IPython.core.display.HTML object>"
      ]
     },
     "metadata": {
      "tags": []
     },
     "output_type": "display_data"
    },
    {
     "name": "stdout",
     "output_type": "stream",
     "text": [
      "LR Finder is complete, type {learner_name}.recorder.plot() to see the graph.\n",
      "Min numerical gradient: 1.10E-06\n"
     ]
    },
    {
     "data": {
      "image/png": "[encoded data removed]",
      "text/plain": [
       "<Figure size 432x288 with 1 Axes>"
      ]
     },
     "metadata": {
      "tags": []
     },
     "output_type": "display_data"
    }
   ],
   "source": [
    "learn.unfreeze()\n",
    "learn.clip_grad()\n",
    "learn.lr_find()\n",
    "learn.recorder.plot(suggestion=True)"
   ]
  },
  {
   "cell_type": "code",
   "execution_count": 0,
   "metadata": {
    "colab": {},
    "colab_type": "code",
    "id": "q0wOuU_7SsPo"
   },
   "outputs": [],
   "source": [
    "learn.load('Res34_128_862168');\n",
    "learn.unfreeze();\n",
    "learn.clip_grad();"
   ]
  },
  {
   "cell_type": "code",
   "execution_count": 0,
   "metadata": {
    "colab": {},
    "colab_type": "code",
    "id": "W2vr8AfDSBnE"
   },
   "outputs": [],
   "source": [
    "lr = [2e-3/1000, 2e-3/100, 2e-3/100]"
   ]
  },
  {
   "cell_type": "code",
   "execution_count": 0,
   "metadata": {
    "colab": {
     "base_uri": "https://localhost:8080/",
     "height": 802
    },
    "colab_type": "code",
    "id": "koP5h6H1SQ2v",
    "outputId": "c623332d-55d3-4895-cb7d-e1eee0a79e20"
   },
   "outputs": [
    {
     "data": {
      "text/html": [
       "<table border=\"1\" class=\"dataframe\">\n",
       "  <thead>\n",
       "    <tr style=\"text-align: left;\">\n",
       "      <th>epoch</th>\n",
       "      <th>train_loss</th>\n",
       "      <th>valid_loss</th>\n",
       "      <th>error_rate</th>\n",
       "      <th>f_beta</th>\n",
       "      <th>time</th>\n",
       "    </tr>\n",
       "  </thead>\n",
       "  <tbody>\n",
       "    <tr>\n",
       "      <td>0</td>\n",
       "      <td>0.135267</td>\n",
       "      <td>0.337586</td>\n",
       "      <td>0.121600</td>\n",
       "      <td>0.878115</td>\n",
       "      <td>00:24</td>\n",
       "    </tr>\n",
       "    <tr>\n",
       "      <td>1</td>\n",
       "      <td>0.134537</td>\n",
       "      <td>0.329398</td>\n",
       "      <td>0.126400</td>\n",
       "      <td>0.873305</td>\n",
       "      <td>00:23</td>\n",
       "    </tr>\n",
       "    <tr>\n",
       "      <td>2</td>\n",
       "      <td>0.124365</td>\n",
       "      <td>0.319405</td>\n",
       "      <td>0.113600</td>\n",
       "      <td>0.886449</td>\n",
       "      <td>00:24</td>\n",
       "    </tr>\n",
       "    <tr>\n",
       "      <td>3</td>\n",
       "      <td>0.121675</td>\n",
       "      <td>0.304713</td>\n",
       "      <td>0.106400</td>\n",
       "      <td>0.893495</td>\n",
       "      <td>00:24</td>\n",
       "    </tr>\n",
       "    <tr>\n",
       "      <td>4</td>\n",
       "      <td>0.108551</td>\n",
       "      <td>0.306889</td>\n",
       "      <td>0.112000</td>\n",
       "      <td>0.887798</td>\n",
       "      <td>00:23</td>\n",
       "    </tr>\n",
       "    <tr>\n",
       "      <td>5</td>\n",
       "      <td>0.091137</td>\n",
       "      <td>0.301017</td>\n",
       "      <td>0.101600</td>\n",
       "      <td>0.898209</td>\n",
       "      <td>00:23</td>\n",
       "    </tr>\n",
       "    <tr>\n",
       "      <td>6</td>\n",
       "      <td>0.074224</td>\n",
       "      <td>0.310520</td>\n",
       "      <td>0.101600</td>\n",
       "      <td>0.898382</td>\n",
       "      <td>00:24</td>\n",
       "    </tr>\n",
       "    <tr>\n",
       "      <td>7</td>\n",
       "      <td>0.062111</td>\n",
       "      <td>0.309880</td>\n",
       "      <td>0.100800</td>\n",
       "      <td>0.899323</td>\n",
       "      <td>00:23</td>\n",
       "    </tr>\n",
       "    <tr>\n",
       "      <td>8</td>\n",
       "      <td>0.049269</td>\n",
       "      <td>0.304701</td>\n",
       "      <td>0.100800</td>\n",
       "      <td>0.899174</td>\n",
       "      <td>00:23</td>\n",
       "    </tr>\n",
       "    <tr>\n",
       "      <td>9</td>\n",
       "      <td>0.040387</td>\n",
       "      <td>0.305732</td>\n",
       "      <td>0.093600</td>\n",
       "      <td>0.906275</td>\n",
       "      <td>00:24</td>\n",
       "    </tr>\n",
       "    <tr>\n",
       "      <td>10</td>\n",
       "      <td>0.029290</td>\n",
       "      <td>0.312754</td>\n",
       "      <td>0.088800</td>\n",
       "      <td>0.911290</td>\n",
       "      <td>00:24</td>\n",
       "    </tr>\n",
       "    <tr>\n",
       "      <td>11</td>\n",
       "      <td>0.027301</td>\n",
       "      <td>0.324529</td>\n",
       "      <td>0.086400</td>\n",
       "      <td>0.913513</td>\n",
       "      <td>00:23</td>\n",
       "    </tr>\n",
       "    <tr>\n",
       "      <td>12</td>\n",
       "      <td>0.024073</td>\n",
       "      <td>0.319040</td>\n",
       "      <td>0.082400</td>\n",
       "      <td>0.917041</td>\n",
       "      <td>00:23</td>\n",
       "    </tr>\n",
       "    <tr>\n",
       "      <td>13</td>\n",
       "      <td>0.018579</td>\n",
       "      <td>0.323578</td>\n",
       "      <td>0.087200</td>\n",
       "      <td>0.912537</td>\n",
       "      <td>00:24</td>\n",
       "    </tr>\n",
       "    <tr>\n",
       "      <td>14</td>\n",
       "      <td>0.015345</td>\n",
       "      <td>0.326203</td>\n",
       "      <td>0.081600</td>\n",
       "      <td>0.917838</td>\n",
       "      <td>00:23</td>\n",
       "    </tr>\n",
       "    <tr>\n",
       "      <td>15</td>\n",
       "      <td>0.011110</td>\n",
       "      <td>0.320390</td>\n",
       "      <td>0.081600</td>\n",
       "      <td>0.917935</td>\n",
       "      <td>00:24</td>\n",
       "    </tr>\n",
       "    <tr>\n",
       "      <td>16</td>\n",
       "      <td>0.012128</td>\n",
       "      <td>0.315355</td>\n",
       "      <td>0.077600</td>\n",
       "      <td>0.922399</td>\n",
       "      <td>00:24</td>\n",
       "    </tr>\n",
       "    <tr>\n",
       "      <td>17</td>\n",
       "      <td>0.008302</td>\n",
       "      <td>0.332167</td>\n",
       "      <td>0.076800</td>\n",
       "      <td>0.923141</td>\n",
       "      <td>00:23</td>\n",
       "    </tr>\n",
       "    <tr>\n",
       "      <td>18</td>\n",
       "      <td>0.006702</td>\n",
       "      <td>0.323936</td>\n",
       "      <td>0.076800</td>\n",
       "      <td>0.923058</td>\n",
       "      <td>00:23</td>\n",
       "    </tr>\n",
       "    <tr>\n",
       "      <td>19</td>\n",
       "      <td>0.007593</td>\n",
       "      <td>0.324590</td>\n",
       "      <td>0.080000</td>\n",
       "      <td>0.920005</td>\n",
       "      <td>00:24</td>\n",
       "    </tr>\n",
       "    <tr>\n",
       "      <td>20</td>\n",
       "      <td>0.007394</td>\n",
       "      <td>0.329474</td>\n",
       "      <td>0.077600</td>\n",
       "      <td>0.922031</td>\n",
       "      <td>00:24</td>\n",
       "    </tr>\n",
       "    <tr>\n",
       "      <td>21</td>\n",
       "      <td>0.006018</td>\n",
       "      <td>0.326315</td>\n",
       "      <td>0.081600</td>\n",
       "      <td>0.918383</td>\n",
       "      <td>00:23</td>\n",
       "    </tr>\n",
       "    <tr>\n",
       "      <td>22</td>\n",
       "      <td>0.005137</td>\n",
       "      <td>0.325121</td>\n",
       "      <td>0.076800</td>\n",
       "      <td>0.923248</td>\n",
       "      <td>00:23</td>\n",
       "    </tr>\n",
       "    <tr>\n",
       "      <td>23</td>\n",
       "      <td>0.005202</td>\n",
       "      <td>0.326295</td>\n",
       "      <td>0.079200</td>\n",
       "      <td>0.920846</td>\n",
       "      <td>00:24</td>\n",
       "    </tr>\n",
       "  </tbody>\n",
       "</table>"
      ],
      "text/plain": [
       "<IPython.core.display.HTML object>"
      ]
     },
     "metadata": {
      "tags": []
     },
     "output_type": "display_data"
    }
   ],
   "source": [
    "learn.fit_one_cycle(24, lr)"
   ]
  },
  {
   "cell_type": "code",
   "execution_count": 0,
   "metadata": {
    "colab": {},
    "colab_type": "code",
    "id": "ts518fO-SUBg"
   },
   "outputs": [],
   "source": [
    "learn.save('s2_Res50_128_920846')"
   ]
  },
  {
   "cell_type": "markdown",
   "metadata": {
    "colab_type": "text",
    "id": "k5h9Ctrvolma"
   },
   "source": [
    "## Training with Size 256"
   ]
  },
  {
   "cell_type": "code",
   "execution_count": 0,
   "metadata": {
    "colab": {},
    "colab_type": "code",
    "id": "q6WIPZG_WPck"
   },
   "outputs": [],
   "source": [
    "data_256 = (src.transform(tfms, size=256, resize_method=ResizeMethod.SQUISH)\n",
    "            .databunch()\n",
    "            .normalize(imagenet_stats))"
   ]
  },
  {
   "cell_type": "code",
   "execution_count": 0,
   "metadata": {
    "colab": {},
    "colab_type": "code",
    "id": "j5dy8cNfWSll"
   },
   "outputs": [],
   "source": [
    "learn.data = data_256"
   ]
  },
  {
   "cell_type": "code",
   "execution_count": 0,
   "metadata": {
    "colab": {},
    "colab_type": "code",
    "id": "KQ1BqLrEW_Nb"
   },
   "outputs": [],
   "source": [
    "learn.freeze();\n",
    "learn.clip_grad();"
   ]
  },
  {
   "cell_type": "code",
   "execution_count": 0,
   "metadata": {
    "colab": {
     "base_uri": "https://localhost:8080/",
     "height": 318
    },
    "colab_type": "code",
    "id": "gFXiAkC1XD1b",
    "outputId": "e3b6d755-dbf6-4a3a-9752-8a26d26a6da4"
   },
   "outputs": [
    {
     "data": {
      "text/html": [],
      "text/plain": [
       "<IPython.core.display.HTML object>"
      ]
     },
     "metadata": {
      "tags": []
     },
     "output_type": "display_data"
    },
    {
     "name": "stdout",
     "output_type": "stream",
     "text": [
      "LR Finder is complete, type {learner_name}.recorder.plot() to see the graph.\n",
      "Min numerical gradient: 9.12E-07\n"
     ]
    },
    {
     "data": {
      "image/png": "[encoded data removed]",
      "text/plain": [
       "<Figure size 432x288 with 1 Axes>"
      ]
     },
     "metadata": {
      "tags": []
     },
     "output_type": "display_data"
    }
   ],
   "source": [
    "learn.lr_find()\n",
    "learn.recorder.plot(suggestion=True)"
   ]
  },
  {
   "cell_type": "code",
   "execution_count": 0,
   "metadata": {
    "colab": {
     "base_uri": "https://localhost:8080/",
     "height": 551
    },
    "colab_type": "code",
    "id": "AwsccXWuXH1u",
    "outputId": "719f440e-24a9-411a-c8e5-3b21d7f9cbb3"
   },
   "outputs": [
    {
     "data": {
      "text/html": [
       "<table border=\"1\" class=\"dataframe\">\n",
       "  <thead>\n",
       "    <tr style=\"text-align: left;\">\n",
       "      <th>epoch</th>\n",
       "      <th>train_loss</th>\n",
       "      <th>valid_loss</th>\n",
       "      <th>error_rate</th>\n",
       "      <th>f_beta</th>\n",
       "      <th>time</th>\n",
       "    </tr>\n",
       "  </thead>\n",
       "  <tbody>\n",
       "    <tr>\n",
       "      <td>0</td>\n",
       "      <td>0.235807</td>\n",
       "      <td>0.394416</td>\n",
       "      <td>0.112000</td>\n",
       "      <td>0.888106</td>\n",
       "      <td>00:56</td>\n",
       "    </tr>\n",
       "    <tr>\n",
       "      <td>1</td>\n",
       "      <td>0.225214</td>\n",
       "      <td>0.382139</td>\n",
       "      <td>0.108000</td>\n",
       "      <td>0.891752</td>\n",
       "      <td>00:54</td>\n",
       "    </tr>\n",
       "    <tr>\n",
       "      <td>2</td>\n",
       "      <td>0.200634</td>\n",
       "      <td>0.356438</td>\n",
       "      <td>0.100800</td>\n",
       "      <td>0.899363</td>\n",
       "      <td>00:54</td>\n",
       "    </tr>\n",
       "    <tr>\n",
       "      <td>3</td>\n",
       "      <td>0.189586</td>\n",
       "      <td>0.339507</td>\n",
       "      <td>0.100000</td>\n",
       "      <td>0.900009</td>\n",
       "      <td>00:55</td>\n",
       "    </tr>\n",
       "    <tr>\n",
       "      <td>4</td>\n",
       "      <td>0.176775</td>\n",
       "      <td>0.314939</td>\n",
       "      <td>0.096000</td>\n",
       "      <td>0.903945</td>\n",
       "      <td>00:54</td>\n",
       "    </tr>\n",
       "    <tr>\n",
       "      <td>5</td>\n",
       "      <td>0.180184</td>\n",
       "      <td>0.294531</td>\n",
       "      <td>0.091200</td>\n",
       "      <td>0.908426</td>\n",
       "      <td>00:54</td>\n",
       "    </tr>\n",
       "    <tr>\n",
       "      <td>6</td>\n",
       "      <td>0.155939</td>\n",
       "      <td>0.286191</td>\n",
       "      <td>0.092800</td>\n",
       "      <td>0.906873</td>\n",
       "      <td>00:54</td>\n",
       "    </tr>\n",
       "    <tr>\n",
       "      <td>7</td>\n",
       "      <td>0.137322</td>\n",
       "      <td>0.274569</td>\n",
       "      <td>0.089600</td>\n",
       "      <td>0.910545</td>\n",
       "      <td>00:54</td>\n",
       "    </tr>\n",
       "    <tr>\n",
       "      <td>8</td>\n",
       "      <td>0.135025</td>\n",
       "      <td>0.263795</td>\n",
       "      <td>0.087200</td>\n",
       "      <td>0.912825</td>\n",
       "      <td>00:54</td>\n",
       "    </tr>\n",
       "    <tr>\n",
       "      <td>9</td>\n",
       "      <td>0.118665</td>\n",
       "      <td>0.260747</td>\n",
       "      <td>0.087200</td>\n",
       "      <td>0.913069</td>\n",
       "      <td>00:54</td>\n",
       "    </tr>\n",
       "    <tr>\n",
       "      <td>10</td>\n",
       "      <td>0.127401</td>\n",
       "      <td>0.259315</td>\n",
       "      <td>0.088800</td>\n",
       "      <td>0.911151</td>\n",
       "      <td>00:54</td>\n",
       "    </tr>\n",
       "    <tr>\n",
       "      <td>11</td>\n",
       "      <td>0.122290</td>\n",
       "      <td>0.263109</td>\n",
       "      <td>0.084000</td>\n",
       "      <td>0.916470</td>\n",
       "      <td>00:54</td>\n",
       "    </tr>\n",
       "    <tr>\n",
       "      <td>12</td>\n",
       "      <td>0.113356</td>\n",
       "      <td>0.254831</td>\n",
       "      <td>0.084800</td>\n",
       "      <td>0.915125</td>\n",
       "      <td>00:54</td>\n",
       "    </tr>\n",
       "    <tr>\n",
       "      <td>13</td>\n",
       "      <td>0.114597</td>\n",
       "      <td>0.256786</td>\n",
       "      <td>0.082400</td>\n",
       "      <td>0.917729</td>\n",
       "      <td>00:55</td>\n",
       "    </tr>\n",
       "    <tr>\n",
       "      <td>14</td>\n",
       "      <td>0.120454</td>\n",
       "      <td>0.254396</td>\n",
       "      <td>0.080000</td>\n",
       "      <td>0.919794</td>\n",
       "      <td>00:54</td>\n",
       "    </tr>\n",
       "    <tr>\n",
       "      <td>15</td>\n",
       "      <td>0.104882</td>\n",
       "      <td>0.255340</td>\n",
       "      <td>0.081600</td>\n",
       "      <td>0.918433</td>\n",
       "      <td>00:54</td>\n",
       "    </tr>\n",
       "  </tbody>\n",
       "</table>"
      ],
      "text/plain": [
       "<IPython.core.display.HTML object>"
      ]
     },
     "metadata": {
      "tags": []
     },
     "output_type": "display_data"
    }
   ],
   "source": [
    "learn.fit_one_cycle(16, slice(1e-4))"
   ]
  },
  {
   "cell_type": "code",
   "execution_count": 0,
   "metadata": {
    "colab": {},
    "colab_type": "code",
    "id": "9I0No7aOX7CY"
   },
   "outputs": [],
   "source": [
    "learn.save('Res50_128to224_918433')"
   ]
  },
  {
   "cell_type": "code",
   "execution_count": 0,
   "metadata": {
    "colab": {
     "base_uri": "https://localhost:8080/",
     "height": 318
    },
    "colab_type": "code",
    "id": "XaTD6qdYZZjU",
    "outputId": "5e7104d9-6be5-4605-8a93-97b4265f911b"
   },
   "outputs": [
    {
     "data": {
      "text/html": [],
      "text/plain": [
       "<IPython.core.display.HTML object>"
      ]
     },
     "metadata": {
      "tags": []
     },
     "output_type": "display_data"
    },
    {
     "name": "stdout",
     "output_type": "stream",
     "text": [
      "LR Finder is complete, type {learner_name}.recorder.plot() to see the graph.\n",
      "Min numerical gradient: 6.31E-07\n"
     ]
    },
    {
     "data": {
      "image/png": "[encoded data removed]",
      "text/plain": [
       "<Figure size 432x288 with 1 Axes>"
      ]
     },
     "metadata": {
      "tags": []
     },
     "output_type": "display_data"
    }
   ],
   "source": [
    "learn.unfreeze()\n",
    "learn.clip_grad()\n",
    "learn.lr_find()\n",
    "learn.recorder.plot(suggestion=True)"
   ]
  },
  {
   "cell_type": "code",
   "execution_count": 0,
   "metadata": {
    "colab": {
     "base_uri": "https://localhost:8080/",
     "height": 1053
    },
    "colab_type": "code",
    "id": "8RqmZw0MZggO",
    "outputId": "f02d6b4a-ae9a-4833-b0cd-67a69b6626df"
   },
   "outputs": [
    {
     "data": {
      "text/html": [
       "<table border=\"1\" class=\"dataframe\">\n",
       "  <thead>\n",
       "    <tr style=\"text-align: left;\">\n",
       "      <th>epoch</th>\n",
       "      <th>train_loss</th>\n",
       "      <th>valid_loss</th>\n",
       "      <th>error_rate</th>\n",
       "      <th>f_beta</th>\n",
       "      <th>time</th>\n",
       "    </tr>\n",
       "  </thead>\n",
       "  <tbody>\n",
       "    <tr>\n",
       "      <td>0</td>\n",
       "      <td>0.113888</td>\n",
       "      <td>0.251722</td>\n",
       "      <td>0.083200</td>\n",
       "      <td>0.917174</td>\n",
       "      <td>01:13</td>\n",
       "    </tr>\n",
       "    <tr>\n",
       "      <td>1</td>\n",
       "      <td>0.107678</td>\n",
       "      <td>0.243732</td>\n",
       "      <td>0.084800</td>\n",
       "      <td>0.915250</td>\n",
       "      <td>01:12</td>\n",
       "    </tr>\n",
       "    <tr>\n",
       "      <td>2</td>\n",
       "      <td>0.097923</td>\n",
       "      <td>0.230999</td>\n",
       "      <td>0.080000</td>\n",
       "      <td>0.920201</td>\n",
       "      <td>01:13</td>\n",
       "    </tr>\n",
       "    <tr>\n",
       "      <td>3</td>\n",
       "      <td>0.092969</td>\n",
       "      <td>0.222876</td>\n",
       "      <td>0.076000</td>\n",
       "      <td>0.924146</td>\n",
       "      <td>01:12</td>\n",
       "    </tr>\n",
       "    <tr>\n",
       "      <td>4</td>\n",
       "      <td>0.071634</td>\n",
       "      <td>0.205767</td>\n",
       "      <td>0.068800</td>\n",
       "      <td>0.931199</td>\n",
       "      <td>01:12</td>\n",
       "    </tr>\n",
       "    <tr>\n",
       "      <td>5</td>\n",
       "      <td>0.060520</td>\n",
       "      <td>0.193709</td>\n",
       "      <td>0.065600</td>\n",
       "      <td>0.934445</td>\n",
       "      <td>01:12</td>\n",
       "    </tr>\n",
       "    <tr>\n",
       "      <td>6</td>\n",
       "      <td>0.050068</td>\n",
       "      <td>0.197155</td>\n",
       "      <td>0.060000</td>\n",
       "      <td>0.939721</td>\n",
       "      <td>01:12</td>\n",
       "    </tr>\n",
       "    <tr>\n",
       "      <td>7</td>\n",
       "      <td>0.037427</td>\n",
       "      <td>0.191329</td>\n",
       "      <td>0.057600</td>\n",
       "      <td>0.942378</td>\n",
       "      <td>01:12</td>\n",
       "    </tr>\n",
       "    <tr>\n",
       "      <td>8</td>\n",
       "      <td>0.029954</td>\n",
       "      <td>0.185044</td>\n",
       "      <td>0.056800</td>\n",
       "      <td>0.943431</td>\n",
       "      <td>01:13</td>\n",
       "    </tr>\n",
       "    <tr>\n",
       "      <td>9</td>\n",
       "      <td>0.028350</td>\n",
       "      <td>0.181051</td>\n",
       "      <td>0.055200</td>\n",
       "      <td>0.944922</td>\n",
       "      <td>01:13</td>\n",
       "    </tr>\n",
       "    <tr>\n",
       "      <td>10</td>\n",
       "      <td>0.021422</td>\n",
       "      <td>0.176074</td>\n",
       "      <td>0.050400</td>\n",
       "      <td>0.949747</td>\n",
       "      <td>01:13</td>\n",
       "    </tr>\n",
       "    <tr>\n",
       "      <td>11</td>\n",
       "      <td>0.015707</td>\n",
       "      <td>0.180030</td>\n",
       "      <td>0.049600</td>\n",
       "      <td>0.950538</td>\n",
       "      <td>01:13</td>\n",
       "    </tr>\n",
       "    <tr>\n",
       "      <td>12</td>\n",
       "      <td>0.011665</td>\n",
       "      <td>0.188501</td>\n",
       "      <td>0.050400</td>\n",
       "      <td>0.949687</td>\n",
       "      <td>01:12</td>\n",
       "    </tr>\n",
       "    <tr>\n",
       "      <td>13</td>\n",
       "      <td>0.010661</td>\n",
       "      <td>0.181983</td>\n",
       "      <td>0.048800</td>\n",
       "      <td>0.951165</td>\n",
       "      <td>01:13</td>\n",
       "    </tr>\n",
       "    <tr>\n",
       "      <td>14</td>\n",
       "      <td>0.009608</td>\n",
       "      <td>0.187425</td>\n",
       "      <td>0.050400</td>\n",
       "      <td>0.949616</td>\n",
       "      <td>01:12</td>\n",
       "    </tr>\n",
       "    <tr>\n",
       "      <td>15</td>\n",
       "      <td>0.007635</td>\n",
       "      <td>0.184681</td>\n",
       "      <td>0.052000</td>\n",
       "      <td>0.948211</td>\n",
       "      <td>01:12</td>\n",
       "    </tr>\n",
       "    <tr>\n",
       "      <td>16</td>\n",
       "      <td>0.006309</td>\n",
       "      <td>0.182862</td>\n",
       "      <td>0.049600</td>\n",
       "      <td>0.950472</td>\n",
       "      <td>01:13</td>\n",
       "    </tr>\n",
       "    <tr>\n",
       "      <td>17</td>\n",
       "      <td>0.005092</td>\n",
       "      <td>0.189113</td>\n",
       "      <td>0.049600</td>\n",
       "      <td>0.950485</td>\n",
       "      <td>01:12</td>\n",
       "    </tr>\n",
       "    <tr>\n",
       "      <td>18</td>\n",
       "      <td>0.004729</td>\n",
       "      <td>0.196876</td>\n",
       "      <td>0.048000</td>\n",
       "      <td>0.952221</td>\n",
       "      <td>01:12</td>\n",
       "    </tr>\n",
       "    <tr>\n",
       "      <td>19</td>\n",
       "      <td>0.003372</td>\n",
       "      <td>0.186720</td>\n",
       "      <td>0.044800</td>\n",
       "      <td>0.955215</td>\n",
       "      <td>01:13</td>\n",
       "    </tr>\n",
       "    <tr>\n",
       "      <td>20</td>\n",
       "      <td>0.002821</td>\n",
       "      <td>0.189491</td>\n",
       "      <td>0.047200</td>\n",
       "      <td>0.952847</td>\n",
       "      <td>01:13</td>\n",
       "    </tr>\n",
       "    <tr>\n",
       "      <td>21</td>\n",
       "      <td>0.002515</td>\n",
       "      <td>0.191241</td>\n",
       "      <td>0.048000</td>\n",
       "      <td>0.951985</td>\n",
       "      <td>01:12</td>\n",
       "    </tr>\n",
       "    <tr>\n",
       "      <td>22</td>\n",
       "      <td>0.001960</td>\n",
       "      <td>0.185051</td>\n",
       "      <td>0.047200</td>\n",
       "      <td>0.952768</td>\n",
       "      <td>01:13</td>\n",
       "    </tr>\n",
       "    <tr>\n",
       "      <td>23</td>\n",
       "      <td>0.001930</td>\n",
       "      <td>0.191087</td>\n",
       "      <td>0.044800</td>\n",
       "      <td>0.955202</td>\n",
       "      <td>01:12</td>\n",
       "    </tr>\n",
       "    <tr>\n",
       "      <td>24</td>\n",
       "      <td>0.001886</td>\n",
       "      <td>0.187971</td>\n",
       "      <td>0.046400</td>\n",
       "      <td>0.953585</td>\n",
       "      <td>01:12</td>\n",
       "    </tr>\n",
       "    <tr>\n",
       "      <td>25</td>\n",
       "      <td>0.002528</td>\n",
       "      <td>0.196457</td>\n",
       "      <td>0.049600</td>\n",
       "      <td>0.950591</td>\n",
       "      <td>01:12</td>\n",
       "    </tr>\n",
       "    <tr>\n",
       "      <td>26</td>\n",
       "      <td>0.001684</td>\n",
       "      <td>0.190480</td>\n",
       "      <td>0.045600</td>\n",
       "      <td>0.954418</td>\n",
       "      <td>01:12</td>\n",
       "    </tr>\n",
       "    <tr>\n",
       "      <td>27</td>\n",
       "      <td>0.001345</td>\n",
       "      <td>0.188420</td>\n",
       "      <td>0.045600</td>\n",
       "      <td>0.954428</td>\n",
       "      <td>01:12</td>\n",
       "    </tr>\n",
       "    <tr>\n",
       "      <td>28</td>\n",
       "      <td>0.001131</td>\n",
       "      <td>0.186815</td>\n",
       "      <td>0.046400</td>\n",
       "      <td>0.953563</td>\n",
       "      <td>01:12</td>\n",
       "    </tr>\n",
       "    <tr>\n",
       "      <td>29</td>\n",
       "      <td>0.001349</td>\n",
       "      <td>0.190589</td>\n",
       "      <td>0.044000</td>\n",
       "      <td>0.956113</td>\n",
       "      <td>01:12</td>\n",
       "    </tr>\n",
       "    <tr>\n",
       "      <td>30</td>\n",
       "      <td>0.001452</td>\n",
       "      <td>0.185765</td>\n",
       "      <td>0.046400</td>\n",
       "      <td>0.953652</td>\n",
       "      <td>01:13</td>\n",
       "    </tr>\n",
       "    <tr>\n",
       "      <td>31</td>\n",
       "      <td>0.001284</td>\n",
       "      <td>0.188537</td>\n",
       "      <td>0.044800</td>\n",
       "      <td>0.955245</td>\n",
       "      <td>01:13</td>\n",
       "    </tr>\n",
       "  </tbody>\n",
       "</table>"
      ],
      "text/plain": [
       "<IPython.core.display.HTML object>"
      ]
     },
     "metadata": {
      "tags": []
     },
     "output_type": "display_data"
    }
   ],
   "source": [
    "lr = [1e-3/1000, 1e-3/100, 1e-3/100]\n",
    "learn.fit_one_cycle(32, lr)"
   ]
  },
  {
   "cell_type": "code",
   "execution_count": 0,
   "metadata": {
    "colab": {},
    "colab_type": "code",
    "id": "QGlDDF4oZ95K"
   },
   "outputs": [],
   "source": [
    "learn.save('s2_Res50_128to256_955245')"
   ]
  },
  {
   "cell_type": "code",
   "execution_count": 0,
   "metadata": {
    "colab": {
     "base_uri": "https://localhost:8080/",
     "height": 426
    },
    "colab_type": "code",
    "id": "Jqa5KBhxv8Oz",
    "outputId": "cd7e988d-1c72-45fd-ec6c-7ad00b118041"
   },
   "outputs": [
    {
     "data": {
      "text/html": [
       "<table border=\"1\" class=\"dataframe\">\n",
       "  <thead>\n",
       "    <tr style=\"text-align: left;\">\n",
       "      <th>epoch</th>\n",
       "      <th>train_loss</th>\n",
       "      <th>valid_loss</th>\n",
       "      <th>error_rate</th>\n",
       "      <th>f_beta</th>\n",
       "      <th>time</th>\n",
       "    </tr>\n",
       "  </thead>\n",
       "  <tbody>\n",
       "    <tr>\n",
       "      <td>0</td>\n",
       "      <td>0.001455</td>\n",
       "      <td>0.185611</td>\n",
       "      <td>0.044800</td>\n",
       "      <td>0.955195</td>\n",
       "      <td>01:13</td>\n",
       "    </tr>\n",
       "    <tr>\n",
       "      <td>1</td>\n",
       "      <td>0.000961</td>\n",
       "      <td>0.190947</td>\n",
       "      <td>0.043200</td>\n",
       "      <td>0.956866</td>\n",
       "      <td>01:13</td>\n",
       "    </tr>\n",
       "    <tr>\n",
       "      <td>2</td>\n",
       "      <td>0.002057</td>\n",
       "      <td>0.206501</td>\n",
       "      <td>0.040000</td>\n",
       "      <td>0.960093</td>\n",
       "      <td>01:13</td>\n",
       "    </tr>\n",
       "    <tr>\n",
       "      <td>3</td>\n",
       "      <td>0.004629</td>\n",
       "      <td>0.225442</td>\n",
       "      <td>0.046400</td>\n",
       "      <td>0.953692</td>\n",
       "      <td>01:12</td>\n",
       "    </tr>\n",
       "    <tr>\n",
       "      <td>4</td>\n",
       "      <td>0.006945</td>\n",
       "      <td>0.213679</td>\n",
       "      <td>0.044000</td>\n",
       "      <td>0.956062</td>\n",
       "      <td>01:12</td>\n",
       "    </tr>\n",
       "    <tr>\n",
       "      <td>5</td>\n",
       "      <td>0.003239</td>\n",
       "      <td>0.223394</td>\n",
       "      <td>0.044000</td>\n",
       "      <td>0.956085</td>\n",
       "      <td>01:12</td>\n",
       "    </tr>\n",
       "    <tr>\n",
       "      <td>6</td>\n",
       "      <td>0.002326</td>\n",
       "      <td>0.229323</td>\n",
       "      <td>0.043200</td>\n",
       "      <td>0.956987</td>\n",
       "      <td>01:13</td>\n",
       "    </tr>\n",
       "    <tr>\n",
       "      <td>7</td>\n",
       "      <td>0.003484</td>\n",
       "      <td>0.210361</td>\n",
       "      <td>0.040800</td>\n",
       "      <td>0.959092</td>\n",
       "      <td>01:12</td>\n",
       "    </tr>\n",
       "    <tr>\n",
       "      <td>8</td>\n",
       "      <td>0.001639</td>\n",
       "      <td>0.215162</td>\n",
       "      <td>0.036000</td>\n",
       "      <td>0.963980</td>\n",
       "      <td>01:12</td>\n",
       "    </tr>\n",
       "    <tr>\n",
       "      <td>9</td>\n",
       "      <td>0.001685</td>\n",
       "      <td>0.211433</td>\n",
       "      <td>0.036000</td>\n",
       "      <td>0.964078</td>\n",
       "      <td>01:12</td>\n",
       "    </tr>\n",
       "    <tr>\n",
       "      <td>10</td>\n",
       "      <td>0.001319</td>\n",
       "      <td>0.206052</td>\n",
       "      <td>0.038400</td>\n",
       "      <td>0.961600</td>\n",
       "      <td>01:12</td>\n",
       "    </tr>\n",
       "    <tr>\n",
       "      <td>11</td>\n",
       "      <td>0.000488</td>\n",
       "      <td>0.205780</td>\n",
       "      <td>0.036000</td>\n",
       "      <td>0.963999</td>\n",
       "      <td>01:13</td>\n",
       "    </tr>\n",
       "  </tbody>\n",
       "</table>"
      ],
      "text/plain": [
       "<IPython.core.display.HTML object>"
      ]
     },
     "metadata": {
      "tags": []
     },
     "output_type": "display_data"
    }
   ],
   "source": [
    "lr = [2e-3/1000, 2e-3/100, 2e-3/100]\n",
    "learn.fit_one_cycle(12, lr)"
   ]
  },
  {
   "cell_type": "code",
   "execution_count": 0,
   "metadata": {
    "colab": {},
    "colab_type": "code",
    "id": "qsouTNpz1ez5"
   },
   "outputs": [],
   "source": [
    "learn.save('s2_Res50_128to256_963999')"
   ]
  },
  {
   "cell_type": "code",
   "execution_count": 0,
   "metadata": {
    "colab": {},
    "colab_type": "code",
    "id": "jHU0mno9eOMG"
   },
   "outputs": [],
   "source": [
    "preds, _ = learn.get_preds(DatasetType.Test)\n",
    "pred_class = torch.argmax(preds, dim=1)\n",
    "pred_class += 1\n",
    "pred_numpy = pred_class.numpy()"
   ]
  },
  {
   "cell_type": "code",
   "execution_count": 0,
   "metadata": {
    "colab": {},
    "colab_type": "code",
    "id": "0x-lElGs1mKI"
   },
   "outputs": [],
   "source": [
    "write_submission(pred_numpy, 'FAI_Res50_128to246_963999.csv')\n",
    "#LB 0.9728709421"
   ]
  },
  {
   "cell_type": "markdown",
   "metadata": {
    "colab_type": "text",
    "id": "pjURvtLeos1l"
   },
   "source": [
    "## Training with Size 299"
   ]
  },
  {
   "cell_type": "code",
   "execution_count": 0,
   "metadata": {
    "colab": {},
    "colab_type": "code",
    "id": "KlOQZiwxMnMz"
   },
   "outputs": [],
   "source": [
    "data_299 = (src.transform(tfms, size=299, resize_method=ResizeMethod.SQUISH)\n",
    "            .databunch(bs=24)\n",
    "            .normalize(imagenet_stats))"
   ]
  },
  {
   "cell_type": "code",
   "execution_count": 0,
   "metadata": {
    "colab": {},
    "colab_type": "code",
    "id": "hVLcXcAqMtcN"
   },
   "outputs": [],
   "source": [
    "learn = cnn_learner(data_299, models.resnet50, metrics=[error_rate, f_score])"
   ]
  },
  {
   "cell_type": "code",
   "execution_count": 0,
   "metadata": {
    "colab": {},
    "colab_type": "code",
    "id": "1DVIW86w37O6"
   },
   "outputs": [],
   "source": [
    "learn.load('s2_Res50_128to256_963999');\n",
    "learn.freeze();\n",
    "learn.clip_grad();"
   ]
  },
  {
   "cell_type": "code",
   "execution_count": 0,
   "metadata": {
    "colab": {
     "base_uri": "https://localhost:8080/",
     "height": 317
    },
    "colab_type": "code",
    "id": "zinzUfkQfzaT",
    "outputId": "6170c22d-826e-4153-db3a-7443e3962c80"
   },
   "outputs": [
    {
     "data": {
      "text/html": [],
      "text/plain": [
       "<IPython.core.display.HTML object>"
      ]
     },
     "metadata": {
      "tags": []
     },
     "output_type": "display_data"
    },
    {
     "name": "stdout",
     "output_type": "stream",
     "text": [
      "LR Finder is complete, type {learner_name}.recorder.plot() to see the graph.\n",
      "Min numerical gradient: 7.59E-07\n"
     ]
    },
    {
     "data": {
      "image/png": "[encoded data removed]",
      "text/plain": [
       "<Figure size 432x288 with 1 Axes>"
      ]
     },
     "metadata": {
      "tags": []
     },
     "output_type": "display_data"
    }
   ],
   "source": [
    "learn.lr_find()\n",
    "learn.recorder.plot(suggestion=True)"
   ]
  },
  {
   "cell_type": "code",
   "execution_count": 0,
   "metadata": {
    "colab": {},
    "colab_type": "code",
    "id": "95I-FsnEP9u_"
   },
   "outputs": [],
   "source": [
    "lr = 1e-3\n",
    "lrs = [lr/9, lr/3, lr]"
   ]
  },
  {
   "cell_type": "code",
   "execution_count": 0,
   "metadata": {
    "colab": {
     "base_uri": "https://localhost:8080/",
     "height": 1041
    },
    "colab_type": "code",
    "id": "pIn8HrsBzt36",
    "outputId": "7b9f6dde-a116-4fad-c584-4a1aed323535"
   },
   "outputs": [
    {
     "data": {
      "text/html": [
       "<table border=\"1\" class=\"dataframe\">\n",
       "  <thead>\n",
       "    <tr style=\"text-align: left;\">\n",
       "      <th>epoch</th>\n",
       "      <th>train_loss</th>\n",
       "      <th>valid_loss</th>\n",
       "      <th>error_rate</th>\n",
       "      <th>f_beta</th>\n",
       "      <th>time</th>\n",
       "    </tr>\n",
       "  </thead>\n",
       "  <tbody>\n",
       "    <tr>\n",
       "      <td>0</td>\n",
       "      <td>0.025667</td>\n",
       "      <td>0.206577</td>\n",
       "      <td>0.046400</td>\n",
       "      <td>0.953604</td>\n",
       "      <td>01:27</td>\n",
       "    </tr>\n",
       "    <tr>\n",
       "      <td>1</td>\n",
       "      <td>0.017345</td>\n",
       "      <td>0.213024</td>\n",
       "      <td>0.045600</td>\n",
       "      <td>0.954456</td>\n",
       "      <td>01:26</td>\n",
       "    </tr>\n",
       "    <tr>\n",
       "      <td>2</td>\n",
       "      <td>0.011777</td>\n",
       "      <td>0.208933</td>\n",
       "      <td>0.046400</td>\n",
       "      <td>0.953717</td>\n",
       "      <td>01:28</td>\n",
       "    </tr>\n",
       "    <tr>\n",
       "      <td>3</td>\n",
       "      <td>0.015972</td>\n",
       "      <td>0.215782</td>\n",
       "      <td>0.048000</td>\n",
       "      <td>0.952036</td>\n",
       "      <td>01:27</td>\n",
       "    </tr>\n",
       "    <tr>\n",
       "      <td>4</td>\n",
       "      <td>0.021094</td>\n",
       "      <td>0.228127</td>\n",
       "      <td>0.044800</td>\n",
       "      <td>0.955296</td>\n",
       "      <td>01:26</td>\n",
       "    </tr>\n",
       "    <tr>\n",
       "      <td>5</td>\n",
       "      <td>0.016081</td>\n",
       "      <td>0.246221</td>\n",
       "      <td>0.044800</td>\n",
       "      <td>0.955447</td>\n",
       "      <td>01:26</td>\n",
       "    </tr>\n",
       "    <tr>\n",
       "      <td>6</td>\n",
       "      <td>0.025471</td>\n",
       "      <td>0.243374</td>\n",
       "      <td>0.048000</td>\n",
       "      <td>0.952246</td>\n",
       "      <td>01:27</td>\n",
       "    </tr>\n",
       "    <tr>\n",
       "      <td>7</td>\n",
       "      <td>0.014863</td>\n",
       "      <td>0.257133</td>\n",
       "      <td>0.047200</td>\n",
       "      <td>0.952855</td>\n",
       "      <td>01:26</td>\n",
       "    </tr>\n",
       "    <tr>\n",
       "      <td>8</td>\n",
       "      <td>0.012427</td>\n",
       "      <td>0.259374</td>\n",
       "      <td>0.043200</td>\n",
       "      <td>0.956947</td>\n",
       "      <td>01:27</td>\n",
       "    </tr>\n",
       "    <tr>\n",
       "      <td>9</td>\n",
       "      <td>0.011441</td>\n",
       "      <td>0.273805</td>\n",
       "      <td>0.047200</td>\n",
       "      <td>0.952891</td>\n",
       "      <td>01:27</td>\n",
       "    </tr>\n",
       "    <tr>\n",
       "      <td>10</td>\n",
       "      <td>0.015612</td>\n",
       "      <td>0.260337</td>\n",
       "      <td>0.042400</td>\n",
       "      <td>0.957582</td>\n",
       "      <td>01:27</td>\n",
       "    </tr>\n",
       "    <tr>\n",
       "      <td>11</td>\n",
       "      <td>0.013822</td>\n",
       "      <td>0.264048</td>\n",
       "      <td>0.040800</td>\n",
       "      <td>0.959186</td>\n",
       "      <td>01:26</td>\n",
       "    </tr>\n",
       "    <tr>\n",
       "      <td>12</td>\n",
       "      <td>0.008849</td>\n",
       "      <td>0.285366</td>\n",
       "      <td>0.045600</td>\n",
       "      <td>0.954679</td>\n",
       "      <td>01:26</td>\n",
       "    </tr>\n",
       "    <tr>\n",
       "      <td>13</td>\n",
       "      <td>0.004418</td>\n",
       "      <td>0.289661</td>\n",
       "      <td>0.043200</td>\n",
       "      <td>0.956722</td>\n",
       "      <td>01:27</td>\n",
       "    </tr>\n",
       "    <tr>\n",
       "      <td>14</td>\n",
       "      <td>0.021651</td>\n",
       "      <td>0.327159</td>\n",
       "      <td>0.044800</td>\n",
       "      <td>0.955223</td>\n",
       "      <td>01:27</td>\n",
       "    </tr>\n",
       "    <tr>\n",
       "      <td>15</td>\n",
       "      <td>0.014103</td>\n",
       "      <td>0.335805</td>\n",
       "      <td>0.048000</td>\n",
       "      <td>0.951947</td>\n",
       "      <td>01:27</td>\n",
       "    </tr>\n",
       "    <tr>\n",
       "      <td>16</td>\n",
       "      <td>0.011197</td>\n",
       "      <td>0.326859</td>\n",
       "      <td>0.044800</td>\n",
       "      <td>0.955382</td>\n",
       "      <td>01:27</td>\n",
       "    </tr>\n",
       "    <tr>\n",
       "      <td>17</td>\n",
       "      <td>0.009521</td>\n",
       "      <td>0.316034</td>\n",
       "      <td>0.043200</td>\n",
       "      <td>0.956786</td>\n",
       "      <td>01:27</td>\n",
       "    </tr>\n",
       "    <tr>\n",
       "      <td>18</td>\n",
       "      <td>0.011850</td>\n",
       "      <td>0.335036</td>\n",
       "      <td>0.042400</td>\n",
       "      <td>0.957718</td>\n",
       "      <td>01:26</td>\n",
       "    </tr>\n",
       "    <tr>\n",
       "      <td>19</td>\n",
       "      <td>0.009195</td>\n",
       "      <td>0.331111</td>\n",
       "      <td>0.041600</td>\n",
       "      <td>0.958319</td>\n",
       "      <td>01:26</td>\n",
       "    </tr>\n",
       "    <tr>\n",
       "      <td>20</td>\n",
       "      <td>0.005719</td>\n",
       "      <td>0.326637</td>\n",
       "      <td>0.040000</td>\n",
       "      <td>0.960002</td>\n",
       "      <td>01:27</td>\n",
       "    </tr>\n",
       "    <tr>\n",
       "      <td>21</td>\n",
       "      <td>0.010204</td>\n",
       "      <td>0.327381</td>\n",
       "      <td>0.044000</td>\n",
       "      <td>0.956036</td>\n",
       "      <td>01:26</td>\n",
       "    </tr>\n",
       "    <tr>\n",
       "      <td>22</td>\n",
       "      <td>0.014183</td>\n",
       "      <td>0.329111</td>\n",
       "      <td>0.042400</td>\n",
       "      <td>0.957590</td>\n",
       "      <td>01:26</td>\n",
       "    </tr>\n",
       "    <tr>\n",
       "      <td>23</td>\n",
       "      <td>0.021510</td>\n",
       "      <td>0.331401</td>\n",
       "      <td>0.040800</td>\n",
       "      <td>0.959226</td>\n",
       "      <td>01:26</td>\n",
       "    </tr>\n",
       "    <tr>\n",
       "      <td>24</td>\n",
       "      <td>0.012790</td>\n",
       "      <td>0.329454</td>\n",
       "      <td>0.039200</td>\n",
       "      <td>0.960812</td>\n",
       "      <td>01:27</td>\n",
       "    </tr>\n",
       "    <tr>\n",
       "      <td>25</td>\n",
       "      <td>0.006882</td>\n",
       "      <td>0.343892</td>\n",
       "      <td>0.044800</td>\n",
       "      <td>0.955247</td>\n",
       "      <td>01:26</td>\n",
       "    </tr>\n",
       "    <tr>\n",
       "      <td>26</td>\n",
       "      <td>0.003541</td>\n",
       "      <td>0.339850</td>\n",
       "      <td>0.040800</td>\n",
       "      <td>0.959089</td>\n",
       "      <td>01:27</td>\n",
       "    </tr>\n",
       "    <tr>\n",
       "      <td>27</td>\n",
       "      <td>0.003712</td>\n",
       "      <td>0.326728</td>\n",
       "      <td>0.044800</td>\n",
       "      <td>0.955227</td>\n",
       "      <td>01:28</td>\n",
       "    </tr>\n",
       "    <tr>\n",
       "      <td>28</td>\n",
       "      <td>0.007764</td>\n",
       "      <td>0.324060</td>\n",
       "      <td>0.040000</td>\n",
       "      <td>0.960058</td>\n",
       "      <td>01:27</td>\n",
       "    </tr>\n",
       "    <tr>\n",
       "      <td>29</td>\n",
       "      <td>0.006429</td>\n",
       "      <td>0.323300</td>\n",
       "      <td>0.040800</td>\n",
       "      <td>0.959198</td>\n",
       "      <td>01:26</td>\n",
       "    </tr>\n",
       "    <tr>\n",
       "      <td>30</td>\n",
       "      <td>0.004221</td>\n",
       "      <td>0.317288</td>\n",
       "      <td>0.044000</td>\n",
       "      <td>0.956055</td>\n",
       "      <td>01:26</td>\n",
       "    </tr>\n",
       "    <tr>\n",
       "      <td>31</td>\n",
       "      <td>0.021248</td>\n",
       "      <td>0.325063</td>\n",
       "      <td>0.042400</td>\n",
       "      <td>0.957632</td>\n",
       "      <td>01:26</td>\n",
       "    </tr>\n",
       "  </tbody>\n",
       "</table>"
      ],
      "text/plain": [
       "<IPython.core.display.HTML object>"
      ]
     },
     "metadata": {
      "tags": []
     },
     "output_type": "display_data"
    }
   ],
   "source": [
    "learn.fit_one_cycle(32, slice(3e-4))"
   ]
  },
  {
   "cell_type": "code",
   "execution_count": 0,
   "metadata": {
    "colab": {},
    "colab_type": "code",
    "id": "fwzRyMM2htww"
   },
   "outputs": [],
   "source": [
    "learn.unfreeze()\n",
    "learn.clip_grad();"
   ]
  },
  {
   "cell_type": "code",
   "execution_count": 0,
   "metadata": {
    "colab": {
     "base_uri": "https://localhost:8080/",
     "height": 301
    },
    "colab_type": "code",
    "id": "ski9rgqKhyBp",
    "outputId": "b386c547-3d61-44c8-a572-8fa1af38d62c"
   },
   "outputs": [
    {
     "data": {
      "text/html": [],
      "text/plain": [
       "<IPython.core.display.HTML object>"
      ]
     },
     "metadata": {
      "tags": []
     },
     "output_type": "display_data"
    },
    {
     "name": "stdout",
     "output_type": "stream",
     "text": [
      "LR Finder is complete, type {learner_name}.recorder.plot() to see the graph.\n"
     ]
    },
    {
     "data": {
      "image/png": "[encoded data removed]",
      "text/plain": [
       "<Figure size 432x288 with 1 Axes>"
      ]
     },
     "metadata": {
      "tags": []
     },
     "output_type": "display_data"
    }
   ],
   "source": [
    "learn.lr_find()\n",
    "learn.recorder.plot()"
   ]
  },
  {
   "cell_type": "code",
   "execution_count": 0,
   "metadata": {
    "colab": {},
    "colab_type": "code",
    "id": "MCcBpmIIh1Tb"
   },
   "outputs": [],
   "source": [
    "lr = 4e-4\n",
    "lrs = [lr/100, lr/20, lr/5]"
   ]
  },
  {
   "cell_type": "code",
   "execution_count": 0,
   "metadata": {
    "colab": {
     "base_uri": "https://localhost:8080/",
     "height": 1041
    },
    "colab_type": "code",
    "id": "KnIOshNFiDlF",
    "outputId": "08773a51-2af3-47d9-ea95-351169607996"
   },
   "outputs": [
    {
     "data": {
      "text/html": [
       "<table border=\"1\" class=\"dataframe\">\n",
       "  <thead>\n",
       "    <tr style=\"text-align: left;\">\n",
       "      <th>epoch</th>\n",
       "      <th>train_loss</th>\n",
       "      <th>valid_loss</th>\n",
       "      <th>error_rate</th>\n",
       "      <th>f_beta</th>\n",
       "      <th>time</th>\n",
       "    </tr>\n",
       "  </thead>\n",
       "  <tbody>\n",
       "    <tr>\n",
       "      <td>0</td>\n",
       "      <td>0.003526</td>\n",
       "      <td>0.318683</td>\n",
       "      <td>0.040000</td>\n",
       "      <td>0.959982</td>\n",
       "      <td>02:03</td>\n",
       "    </tr>\n",
       "    <tr>\n",
       "      <td>1</td>\n",
       "      <td>0.005021</td>\n",
       "      <td>0.327624</td>\n",
       "      <td>0.046400</td>\n",
       "      <td>0.953807</td>\n",
       "      <td>02:03</td>\n",
       "    </tr>\n",
       "    <tr>\n",
       "      <td>2</td>\n",
       "      <td>0.011597</td>\n",
       "      <td>0.395443</td>\n",
       "      <td>0.047200</td>\n",
       "      <td>0.952585</td>\n",
       "      <td>02:03</td>\n",
       "    </tr>\n",
       "    <tr>\n",
       "      <td>3</td>\n",
       "      <td>0.020771</td>\n",
       "      <td>0.333545</td>\n",
       "      <td>0.040800</td>\n",
       "      <td>0.959174</td>\n",
       "      <td>02:04</td>\n",
       "    </tr>\n",
       "    <tr>\n",
       "      <td>4</td>\n",
       "      <td>0.014372</td>\n",
       "      <td>0.350398</td>\n",
       "      <td>0.044800</td>\n",
       "      <td>0.955408</td>\n",
       "      <td>02:04</td>\n",
       "    </tr>\n",
       "    <tr>\n",
       "      <td>5</td>\n",
       "      <td>0.011309</td>\n",
       "      <td>0.361765</td>\n",
       "      <td>0.048000</td>\n",
       "      <td>0.952423</td>\n",
       "      <td>02:03</td>\n",
       "    </tr>\n",
       "    <tr>\n",
       "      <td>6</td>\n",
       "      <td>0.038362</td>\n",
       "      <td>0.343047</td>\n",
       "      <td>0.045600</td>\n",
       "      <td>0.954636</td>\n",
       "      <td>02:03</td>\n",
       "    </tr>\n",
       "    <tr>\n",
       "      <td>7</td>\n",
       "      <td>0.049046</td>\n",
       "      <td>0.375772</td>\n",
       "      <td>0.047200</td>\n",
       "      <td>0.952783</td>\n",
       "      <td>02:03</td>\n",
       "    </tr>\n",
       "    <tr>\n",
       "      <td>8</td>\n",
       "      <td>0.020377</td>\n",
       "      <td>0.318941</td>\n",
       "      <td>0.040000</td>\n",
       "      <td>0.960068</td>\n",
       "      <td>02:04</td>\n",
       "    </tr>\n",
       "    <tr>\n",
       "      <td>9</td>\n",
       "      <td>0.043044</td>\n",
       "      <td>0.370518</td>\n",
       "      <td>0.040000</td>\n",
       "      <td>0.959832</td>\n",
       "      <td>02:03</td>\n",
       "    </tr>\n",
       "    <tr>\n",
       "      <td>10</td>\n",
       "      <td>0.020216</td>\n",
       "      <td>0.384399</td>\n",
       "      <td>0.049600</td>\n",
       "      <td>0.950438</td>\n",
       "      <td>02:04</td>\n",
       "    </tr>\n",
       "    <tr>\n",
       "      <td>11</td>\n",
       "      <td>0.032647</td>\n",
       "      <td>0.409459</td>\n",
       "      <td>0.044800</td>\n",
       "      <td>0.955382</td>\n",
       "      <td>02:03</td>\n",
       "    </tr>\n",
       "    <tr>\n",
       "      <td>12</td>\n",
       "      <td>0.041171</td>\n",
       "      <td>0.380190</td>\n",
       "      <td>0.043200</td>\n",
       "      <td>0.956805</td>\n",
       "      <td>02:03</td>\n",
       "    </tr>\n",
       "    <tr>\n",
       "      <td>13</td>\n",
       "      <td>0.026374</td>\n",
       "      <td>0.319124</td>\n",
       "      <td>0.042400</td>\n",
       "      <td>0.957417</td>\n",
       "      <td>02:04</td>\n",
       "    </tr>\n",
       "    <tr>\n",
       "      <td>14</td>\n",
       "      <td>0.028982</td>\n",
       "      <td>0.324887</td>\n",
       "      <td>0.040800</td>\n",
       "      <td>0.959169</td>\n",
       "      <td>02:03</td>\n",
       "    </tr>\n",
       "    <tr>\n",
       "      <td>15</td>\n",
       "      <td>0.012970</td>\n",
       "      <td>0.290193</td>\n",
       "      <td>0.040800</td>\n",
       "      <td>0.959234</td>\n",
       "      <td>02:03</td>\n",
       "    </tr>\n",
       "    <tr>\n",
       "      <td>16</td>\n",
       "      <td>0.013481</td>\n",
       "      <td>0.321117</td>\n",
       "      <td>0.038400</td>\n",
       "      <td>0.961661</td>\n",
       "      <td>02:03</td>\n",
       "    </tr>\n",
       "    <tr>\n",
       "      <td>17</td>\n",
       "      <td>0.017946</td>\n",
       "      <td>0.332015</td>\n",
       "      <td>0.043200</td>\n",
       "      <td>0.956698</td>\n",
       "      <td>02:04</td>\n",
       "    </tr>\n",
       "    <tr>\n",
       "      <td>18</td>\n",
       "      <td>0.006302</td>\n",
       "      <td>0.347418</td>\n",
       "      <td>0.043200</td>\n",
       "      <td>0.956748</td>\n",
       "      <td>02:03</td>\n",
       "    </tr>\n",
       "    <tr>\n",
       "      <td>19</td>\n",
       "      <td>0.012326</td>\n",
       "      <td>0.315531</td>\n",
       "      <td>0.039200</td>\n",
       "      <td>0.960884</td>\n",
       "      <td>02:03</td>\n",
       "    </tr>\n",
       "    <tr>\n",
       "      <td>20</td>\n",
       "      <td>0.011519</td>\n",
       "      <td>0.297215</td>\n",
       "      <td>0.040000</td>\n",
       "      <td>0.960052</td>\n",
       "      <td>02:03</td>\n",
       "    </tr>\n",
       "    <tr>\n",
       "      <td>21</td>\n",
       "      <td>0.006773</td>\n",
       "      <td>0.292377</td>\n",
       "      <td>0.040000</td>\n",
       "      <td>0.960035</td>\n",
       "      <td>02:02</td>\n",
       "    </tr>\n",
       "    <tr>\n",
       "      <td>22</td>\n",
       "      <td>0.002509</td>\n",
       "      <td>0.316566</td>\n",
       "      <td>0.041600</td>\n",
       "      <td>0.958313</td>\n",
       "      <td>02:02</td>\n",
       "    </tr>\n",
       "    <tr>\n",
       "      <td>23</td>\n",
       "      <td>0.001472</td>\n",
       "      <td>0.329549</td>\n",
       "      <td>0.040000</td>\n",
       "      <td>0.960050</td>\n",
       "      <td>02:03</td>\n",
       "    </tr>\n",
       "    <tr>\n",
       "      <td>24</td>\n",
       "      <td>0.001645</td>\n",
       "      <td>0.318443</td>\n",
       "      <td>0.040000</td>\n",
       "      <td>0.960028</td>\n",
       "      <td>02:02</td>\n",
       "    </tr>\n",
       "    <tr>\n",
       "      <td>25</td>\n",
       "      <td>0.001688</td>\n",
       "      <td>0.309815</td>\n",
       "      <td>0.040800</td>\n",
       "      <td>0.959105</td>\n",
       "      <td>02:02</td>\n",
       "    </tr>\n",
       "    <tr>\n",
       "      <td>26</td>\n",
       "      <td>0.001295</td>\n",
       "      <td>0.310550</td>\n",
       "      <td>0.036800</td>\n",
       "      <td>0.963097</td>\n",
       "      <td>02:02</td>\n",
       "    </tr>\n",
       "    <tr>\n",
       "      <td>27</td>\n",
       "      <td>0.001796</td>\n",
       "      <td>0.335744</td>\n",
       "      <td>0.036800</td>\n",
       "      <td>0.963053</td>\n",
       "      <td>02:02</td>\n",
       "    </tr>\n",
       "    <tr>\n",
       "      <td>28</td>\n",
       "      <td>0.000724</td>\n",
       "      <td>0.297071</td>\n",
       "      <td>0.036800</td>\n",
       "      <td>0.963244</td>\n",
       "      <td>02:02</td>\n",
       "    </tr>\n",
       "    <tr>\n",
       "      <td>29</td>\n",
       "      <td>0.008862</td>\n",
       "      <td>0.306059</td>\n",
       "      <td>0.037600</td>\n",
       "      <td>0.962425</td>\n",
       "      <td>02:03</td>\n",
       "    </tr>\n",
       "    <tr>\n",
       "      <td>30</td>\n",
       "      <td>0.008014</td>\n",
       "      <td>0.308906</td>\n",
       "      <td>0.034400</td>\n",
       "      <td>0.965543</td>\n",
       "      <td>02:03</td>\n",
       "    </tr>\n",
       "    <tr>\n",
       "      <td>31</td>\n",
       "      <td>0.003169</td>\n",
       "      <td>0.303726</td>\n",
       "      <td>0.035200</td>\n",
       "      <td>0.964777</td>\n",
       "      <td>02:03</td>\n",
       "    </tr>\n",
       "  </tbody>\n",
       "</table>"
      ],
      "text/plain": [
       "<IPython.core.display.HTML object>"
      ]
     },
     "metadata": {
      "tags": []
     },
     "output_type": "display_data"
    }
   ],
   "source": [
    "learn.fit_one_cycle(32, lrs)"
   ]
  },
  {
   "cell_type": "code",
   "execution_count": 0,
   "metadata": {
    "colab": {},
    "colab_type": "code",
    "id": "M6w2Y15giILh"
   },
   "outputs": [],
   "source": [
    "learn.save('ResNet50_299_964777')"
   ]
  },
  {
   "cell_type": "code",
   "execution_count": 0,
   "metadata": {
    "colab": {},
    "colab_type": "code",
    "id": "6WHT6Teg4tJJ"
   },
   "outputs": [],
   "source": [
    "learn.load('ResNet50_299_964777');"
   ]
  },
  {
   "cell_type": "code",
   "execution_count": 0,
   "metadata": {
    "colab": {},
    "colab_type": "code",
    "id": "lN0RisfszCpI"
   },
   "outputs": [],
   "source": [
    "preds, _ = learn.get_preds(DatasetType.Test)\n",
    "pred_class = torch.argmax(preds, dim=1)\n",
    "pred_class += 1\n",
    "pred_class = pred_class.numpy()"
   ]
  },
  {
   "cell_type": "code",
   "execution_count": 0,
   "metadata": {
    "colab": {},
    "colab_type": "code",
    "id": "HJK72K9q5EcN"
   },
   "outputs": [],
   "source": [
    "write_submission(pred_class, 'ResNet50_124t256t299_964777.csv')\n",
    "#LB 0.9812763721"
   ]
  },
  {
   "cell_type": "markdown",
   "metadata": {
    "colab_type": "text",
    "id": "jnOkT_SppIIs"
   },
   "source": [
    "## Getting predicted probabilties for Test Set"
   ]
  },
  {
   "cell_type": "code",
   "execution_count": 0,
   "metadata": {
    "colab": {},
    "colab_type": "code",
    "id": "YrHfH0QX0URL"
   },
   "outputs": [],
   "source": [
    "learn.load('ResNet50_299_964777');"
   ]
  },
  {
   "cell_type": "code",
   "execution_count": 0,
   "metadata": {
    "colab": {},
    "colab_type": "code",
    "id": "2MnPBlu-pYIU"
   },
   "outputs": [],
   "source": [
    "class_name = ['Cargo', 'Military','Carrier' ,'Cruise','Tankers']"
   ]
  },
  {
   "cell_type": "code",
   "execution_count": 0,
   "metadata": {
    "colab": {},
    "colab_type": "code",
    "id": "T9BnRxo50hi3"
   },
   "outputs": [],
   "source": [
    "predsTTA, _ = learn.TTA(ds_type=DatasetType.Test)\n",
    "preds, _ = learn.get_preds(DatasetType.Test)\n",
    "\n",
    "predTTA_df = pd.DataFrame(predsTTA.numpy(), columns=class_name)\n",
    "preds_df = pd.DataFrame(preds.numpy(), columns=class_name)\n",
    "\n",
    "preds_df.to_csv('Preds_ResNet50_LB_98127.csv', index=False)\n",
    "predTTA_df.to_csv('TTA_ResNet50_LB_98127.csv', index=False)"
   ]
  },
  {
   "cell_type": "code",
   "execution_count": 0,
   "metadata": {
    "colab": {},
    "colab_type": "code",
    "id": "al4eqpSI2TBT"
   },
   "outputs": [],
   "source": [
    "!head ResNet50_LB_98127.csv"
   ]
  }
 ],
 "metadata": {
  "accelerator": "GPU",
  "colab": {
   "collapsed_sections": [],
   "name": "Final_AV_GODLResNet50v1.ipynb",
   "provenance": [],
   "version": "0.3.2"
  },
  "kernelspec": {
   "display_name": "Python 3",
   "language": "python",
   "name": "python3"
  },
  "language_info": {
   "codemirror_mode": {
    "name": "ipython",
    "version": 3
   },
   "file_extension": ".py",
   "mimetype": "text/x-python",
   "name": "python",
   "nbconvert_exporter": "python",
   "pygments_lexer": "ipython3",
   "version": "3.6.7"
  }
 },
 "nbformat": 4,
 "nbformat_minor": 1
}
